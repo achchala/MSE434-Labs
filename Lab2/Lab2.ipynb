{
 "cells": [
  {
   "cell_type": "markdown",
   "metadata": {},
   "source": [
    "# Lab 2 - Lab Assignment"
   ]
  },
  {
   "cell_type": "markdown",
   "metadata": {},
   "source": [
    "Team Members:\n",
    "- Achchala Deepan - 20943939\n",
    "- Manjary Muruganandan - 20950662\n",
    "\n",
    "Group #10"
   ]
  },
  {
   "cell_type": "code",
   "execution_count": 1,
   "metadata": {},
   "outputs": [],
   "source": [
    "# Imports\n",
    "import geopy.distance"
   ]
  },
  {
   "cell_type": "markdown",
   "metadata": {},
   "source": [
    "## Tuple Example - Practice #1"
   ]
  },
  {
   "cell_type": "code",
   "execution_count": 3,
   "metadata": {},
   "outputs": [
    {
     "name": "stdout",
     "output_type": "stream",
     "text": [
      "Latitude: 25.03\n",
      "Longitude: 121.56\n",
      "(25.03, 121.56, 22.33, 120.41)\n",
      "((25.03, 121.56), (22.33, 120.41))\n",
      "location0: (25.03, 121.56)\n",
      "location1: (22.33, 120.41)\n",
      "location0_Latitude: 25.03\n",
      "location0_Longitude: 121.56\n",
      "location1_Latitude: 22.33\n",
      "location1_Longitude: 120.41\n",
      "distance: 321.21288072085764\n",
      "distance__roundup: 321\n",
      "Location 0: Latitude = 25.03, Longitude = 121.56\n",
      "Location 1: Latitude = 22.33, Longitude = 120.41\n"
     ]
    }
   ],
   "source": [
    "# Practice 1:\n",
    "\n",
    "# Tuple example: coordinates and data integrity\n",
    "location0 = (25.03, 121.56)\n",
    "location1 = (22.33, 120.41)\n",
    "print(\"Latitude:\", location0 [0])\n",
    "print(\"Longitude:\", location0[1])\n",
    "total_location_a = location0 + location1\n",
    "print(total_location_a)\n",
    "# is it what we want?\n",
    "\n",
    "total_location_b = (location0, location1)\n",
    "print(total_location_b)\n",
    "print(\"location0:\", total_location_b[0])\n",
    "print(\"location1:\", total_location_b[1])\n",
    "print(\"location0_Latitude:\", total_location_b[0][0])\n",
    "print(\"location0_Longitude:\", total_location_b[0][1])\n",
    "print(\"location1_Latitude:\", total_location_b[1][0])\n",
    "print(\"location1_Longitude:\", total_location_b[1][1])\n",
    "\n",
    "# uses the WGS-84 ellipsoid (as used in GPS systems) to calculate the distance\n",
    "distance = geopy.distance.geodesic(location0, location1).km\n",
    "print(\"distance:\", distance)\n",
    "print(\"distance__roundup:\", int(distance))\n",
    "\n",
    "# example for function \"enumerate\"\n",
    "# for index, element in enumerate (iterable, start = ®):\n",
    "for idx, (lat, lon) in enumerate(total_location_b):\n",
    "    print(f\"Location {idx}: Latitude = {lat}, Longitude = {lon}\")"
   ]
  },
  {
   "cell_type": "markdown",
   "metadata": {},
   "source": [
    "## List Example - Practice 2-1 and 2-2"
   ]
  },
  {
   "cell_type": "code",
   "execution_count": 5,
   "metadata": {},
   "outputs": [
    {
     "name": "stdout",
     "output_type": "stream",
     "text": [
      "scores for MSE211: [85, 90, 88]\n",
      "MSE434 - Test 2 Score: 81\n",
      "MSE434 average score: 87.7\n",
      "MSE434 average score: 81.3\n",
      "MSE434 average score: 92.0\n",
      "['MSE211', 'MSE434', 'MSE531', ['MSE253', 'MSE334']]\n",
      "['MSE211', 'MSE434', 'MSE531', 'MSE253', 'MSE334']\n",
      "['MS211', 'MS434', 'MS531', 'MSE253', 'MSE334']\n",
      "['MSE211', 'MSE434', 'MSE531', 'MSE253', 'MSE334']\n",
      "[[85, 90, 88], [78, 81, 85], [92, 89, 95], [82, 91, 97], [88, 94, 85]]\n"
     ]
    }
   ],
   "source": [
    "# Practice 2-1:\n",
    "# Define exam scores for three courses\n",
    "scores = [\n",
    "[85, 90, 88], #MSE211\n",
    "[78, 81, 85], #MSE434\n",
    "[92, 89, 95] #MSE531\n",
    "]\n",
    "\n",
    "courses = [\"MSE211\", \"MSE434\", \"MSE531\"]\n",
    "\n",
    "# Access all scores for MSE211\n",
    "print (\"scores for MSE211:\", scores [0])\n",
    "# Access the second test score for MSE434\n",
    "print(\"MSE434 - Test 2 Score:\", scores [1][1])\n",
    "# Iterate over courses and calculate average score\n",
    "for i, course_scores in enumerate(scores):\n",
    "    course = courses[1]\n",
    "    avg = sum(course_scores) / len(course_scores)\n",
    "    print(f\"{course} average score: {avg:.1f}\")\n",
    "\n",
    "# Practice 2-2:\n",
    "add_course = [\"MSE253\", \"MSE334\"]\n",
    "# append\n",
    "courses = [\"MSE211\", \"MSE434\", \"MSE531\"]\n",
    "courses.append(add_course)\n",
    "print(courses) # is it what we want?\n",
    "\n",
    "# list1 + list2: mode 1\n",
    "courses = [\"MSE211\", \"MSE434\", \"MSE531\"]\n",
    "courses += add_course\n",
    "print(courses)\n",
    "\n",
    "# list1 + list2: mode 2\n",
    "courses = [\"MS211\", \"MS434\", \"MS531\"]\n",
    "courses = courses + add_course\n",
    "print(courses)\n",
    "\n",
    "#extend\n",
    "courses = [\"MSE211\", \"MSE434\", \"MSE531\"]\n",
    "courses.extend(add_course)\n",
    "print(courses)\n",
    "\n",
    "M5253_score = [82, 91, 97]\n",
    "MSE334_score = [88, 94, 85]\n",
    "\n",
    "# Practice here\n",
    "# how to add into variable \"scores\" with the same format?\n",
    "scores.append(M5253_score)\n",
    "scores.append(MSE334_score)\n",
    "print(scores)"
   ]
  },
  {
   "cell_type": "markdown",
   "metadata": {},
   "source": [
    "## Dictionary Example - Practice 3"
   ]
  },
  {
   "cell_type": "code",
   "execution_count": 6,
   "metadata": {},
   "outputs": [
    {
     "name": "stdout",
     "output_type": "stream",
     "text": [
      "{'MSE211': [85, 90, 88], 'MSE434': [78, 81, 85], 'MSE531': [92, 89, 95]}\n",
      "MSE434 - Test 2 Score: 81\n",
      "{'MSE211': [85, 90, 88], 'MSE434': [78, 81, 85], 'MSE531': [92, 89, 95], 'MSE253': [82, 91, 97]}\n",
      "{'MSE211': [85, 90, 88], 'MSE434': [78, 81, 85], 'MSE531': [92, 89, 95], 'MSE253': [82, 91, 97], 'MSE334': [88, 94, 85]}\n",
      "{'MSE211': [85, 90, 88], 'MSE434': [78, 81, 85], 'MSE531': [92, 89, 95], 'MSE253': [82, 91, 97], 'MSE334': [88, 94, 85]}\n",
      "MSE211 average score: 87.7\n",
      "MSE434 average score: 81.3\n",
      "MSE531 average score: 92.0\n",
      "MSE253 average score: 90.0\n",
      "MSE334 average score: 89.0\n"
     ]
    }
   ],
   "source": [
    "# Define exam scores for three courses\n",
    "scores = [\n",
    "[85, 90, 88], #MSE211\n",
    "[78, 81, 85], #MSE434\n",
    "[92, 89, 95] #MSE531\n",
    "]\n",
    "\n",
    "courses = [\"MSE211\", \"MSE434\", \"MSE531\"]\n",
    "\n",
    "course_scores = dict(zip(courses, scores))\n",
    "print(course_scores)\n",
    "\n",
    "# Access the second test score for MSE434\n",
    "print(\"MSE434 - Test 2 Score:\", course_scores[\"MSE434\"][1])\n",
    "\n",
    "add_course = [\"MSE253\", \"MSE334\"]\n",
    "M5253_score = [82, 91, 97]\n",
    "MSE334_score = [88, 94, 85]\n",
    "\n",
    "#create a new dictionary for additional courses (mode 1)\n",
    "new_entries = {\"MSE253\": M5253_score}\n",
    "\n",
    "course_scores.update(new_entries)\n",
    "print(course_scores)\n",
    "\n",
    "#create a new dictionary for additional courses (mode 1)\n",
    "course_scores[add_course[1]] = MSE334_score\n",
    "print(course_scores)\n",
    "\n",
    "#create a new dictionary for additional courses (mode 2)\n",
    "course_scores[add_course[1]] = MSE334_score\n",
    "print(course_scores)\n",
    "\n",
    "#what is the average score for the first student?\n",
    "for course, scores in course_scores.items():\n",
    "    avg = sum(scores) / len(scores)\n",
    "    print(f\"{course} average score: {avg:.1f}\")"
   ]
  },
  {
   "cell_type": "markdown",
   "metadata": {},
   "source": [
    "## Pandas Example - Practice 4"
   ]
  },
  {
   "cell_type": "code",
   "execution_count": null,
   "metadata": {},
   "outputs": [],
   "source": [
    "import pandas as pd\n",
    "from ipython.display import display\n",
    "\n",
    "course_scores = {\n",
    "    \"MSE211\": [85, 90, 88],\n",
    "    \"MSE434\": [78, 81, 85],\n",
    "    \"MSE531\": [92, 89, 95],\n",
    "    \"MSE253\": [82, 91, 97],\n",
    "    \"MSE334\": [88, 94, 85]\n",
    "}\n",
    "\n",
    "df = pd.DataFrame(course_scores)\n",
    "df.index = [\"Student 1\", \"Student 2\", \"Student 3\"]\n",
    "print(df)\n",
    "\n",
    "print(df.index)\n",
    "print(df.columns)\n",
    "\n",
    "print (df.loc[\"Studenta\",\"MSE434\"])\n",
    "print(df.iloc[0,1])\n",
    "\n",
    "print (df.loc[\"Studentb\"])\n",
    "print(df.iloc[1])\n",
    "\n",
    "print (df[\"MSE434\"])\n",
    "print(df.iloc[:, 1])\n",
    "\n",
    "\n",
    "\n",
    "\n"
   ]
  }
 ],
 "metadata": {
  "kernelspec": {
   "display_name": ".venv",
   "language": "python",
   "name": "python3"
  },
  "language_info": {
   "codemirror_mode": {
    "name": "ipython",
    "version": 3
   },
   "file_extension": ".py",
   "mimetype": "text/x-python",
   "name": "python",
   "nbconvert_exporter": "python",
   "pygments_lexer": "ipython3",
   "version": "3.10.18"
  }
 },
 "nbformat": 4,
 "nbformat_minor": 2
}
