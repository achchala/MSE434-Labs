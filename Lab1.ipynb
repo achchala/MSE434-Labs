{
 "cells": [
  {
   "cell_type": "markdown",
   "metadata": {},
   "source": [
    "# Lab 1"
   ]
  },
  {
   "cell_type": "markdown",
   "metadata": {},
   "source": [
    "# Team Members:\n",
    "# Achchala Deepan - 20943939\n",
    "# Manjary Muruganandan - 20950662"
   ]
  },
  {
   "cell_type": "code",
   "execution_count": 13,
   "metadata": {},
   "outputs": [],
   "source": [
    "from cplex import Cplex\n",
    "from docplex.mp.model import Model"
   ]
  },
  {
   "cell_type": "markdown",
   "metadata": {},
   "source": [
    "### Parameters"
   ]
  },
  {
   "cell_type": "code",
   "execution_count": 14,
   "metadata": {},
   "outputs": [],
   "source": [
    "# Facility IDs and attributes\n",
    "facilities = ['F1', 'F2', 'F3', 'F4', 'F5', 'F6', 'F7']\n",
    "setup_cost = {'F1': 1000, 'F2': 1200, 'F3': 1100, 'F4': 1300, 'F5': 1400, 'F6': 1250, 'F7': 1350}\n",
    "capacity = {'F1': 50, 'F2': 60, 'F3': 40, 'F4': 70, 'F5': 55, 'F6': 65, 'F7': 45}\n",
    "\n",
    "# Customer IDs and demand\n",
    "customers = ['C1', 'C2', 'C3', 'C4', 'C5', 'C6', 'C7', 'C8', 'C9', 'C10']\n",
    "demand = {'C1': 15, 'C2': 10, 'C3': 20, 'C4': 25, 'C5': 30, 'C6': 10, 'C7': 15, 'C8': 10, 'C9': 25, 'C10': 20}\n",
    "\n",
    "# Transportation info\n",
    "rate = 3.5  # per unit per km\n",
    "revenue_per_unit = 1000  # per unit demand fulfilled\n",
    "\n",
    "# Distance between each facility and customer (example only — replace with real data)\n",
    "distance = {\n",
    "    ('F1','C1'):4, ('F1','C2'):6, ('F1','C3'):9, ('F1','C4'):5, ('F1','C5'):8, ('F1','C6'):7, ('F1','C7'):6, ('F1','C8'):5, ('F1','C9'):4, ('F1','C10'):3,\n",
    "    ('F2','C1'):5, ('F2','C2'):4, ('F2','C3'):7, ('F2','C4'):6, ('F2','C5'):5, ('F2','C6'):4, ('F2','C7'):7, ('F2','C8'):8, ('F2','C9'):6, ('F2','C10'):5,\n",
    "    ('F3','C1'):6, ('F3','C2'):3, ('F3','C3'):4, ('F3','C4'):7, ('F3','C5'):8, ('F3','C6'):6, ('F3','C7'):5, ('F3','C8'):4, ('F3','C9'):6, ('F3','C10'):4,\n",
    "    ('F4','C1'):3, ('F4','C2'):5, ('F4','C3'):6, ('F4','C4'):4, ('F4','C5'):7, ('F4','C6'):6, ('F4','C7'):4, ('F4','C8'):5, ('F4','C9'):7, ('F4','C10'):5,\n",
    "    ('F5','C1'):5, ('F5','C2'):4, ('F5','C3'):6, ('F5','C4'):5, ('F5','C5'):6, ('F5','C6'):4, ('F5','C7'):5, ('F5','C8'):6, ('F5','C9'):5, ('F5','C10'):5,\n",
    "    ('F6','C1'):4, ('F6','C2'):3, ('F6','C3'):5, ('F6','C4'):4, ('F6','C5'):7, ('F6','C6'):6, ('F6','C7'):5, ('F6','C8'):6, ('F6','C9'):6, ('F6','C10'):4,\n",
    "    ('F7','C1'):6, ('F7','C2'):6, ('F7','C3'):7, ('F7','C4'):6, ('F7','C5'):5, ('F7','C6'):5, ('F7','C7'):6, ('F7','C8'):5, ('F7','C9'):4, ('F7','C10'):5,\n",
    "}"
   ]
  },
  {
   "cell_type": "markdown",
   "metadata": {},
   "source": [
    "### Model"
   ]
  },
  {
   "cell_type": "code",
   "execution_count": 15,
   "metadata": {},
   "outputs": [],
   "source": [
    "mdl = Model(name=\"CFLP_ProfitMax\")"
   ]
  },
  {
   "cell_type": "markdown",
   "metadata": {},
   "source": [
    "### Decision Variables"
   ]
  },
  {
   "cell_type": "code",
   "execution_count": 16,
   "metadata": {},
   "outputs": [],
   "source": [
    "# Whether a facility is opened\n",
    "x = mdl.binary_var_dict(facilities, name='Open')\n",
    "\n",
    "# Whether a customer is assigned to a facility\n",
    "y = mdl.binary_var_dict([(f, c) for f in facilities for c in customers], name='Assign')\n",
    "\n",
    "# Amount shipped from facility to customer\n",
    "q = mdl.continuous_var_dict([(f, c) for f in facilities for c in customers], name='Ship')\n"
   ]
  },
  {
   "cell_type": "markdown",
   "metadata": {},
   "source": [
    "### Constraints"
   ]
  },
  {
   "cell_type": "code",
   "execution_count": 18,
   "metadata": {},
   "outputs": [
    {
     "data": {
      "text/plain": [
       "docplex.mp.LinearConstraint[Max3Facilities](Open_F1+Open_F2+Open_F3+Open_F4+Open_F5+Open_F6+Open_F7,LE,3)"
      ]
     },
     "execution_count": 18,
     "metadata": {},
     "output_type": "execute_result"
    }
   ],
   "source": [
    "# 1. Each customer assigned to at most 1 facility\n",
    "for c in customers:\n",
    "    mdl.add_constraint(mdl.sum(y[f, c] for f in facilities) <= 1, f\"AssignLimit_{c}\")\n",
    "\n",
    "# 2. Ship only if customer assigned\n",
    "for f in facilities:\n",
    "    for c in customers:\n",
    "        mdl.add_constraint(q[f, c] <= demand[c] * y[f, c], f\"ShipIfAssigned_{f}_{c}\")\n",
    "\n",
    "# 3. Capacity constraint for each facility\n",
    "for f in facilities:\n",
    "    mdl.add_constraint(mdl.sum(q[f, c] for c in customers) <= capacity[f] * x[f], f\"CapacityLimit_{f}\")\n",
    "\n",
    "# 4. Max 3 facilities can be opened\n",
    "mdl.add_constraint(mdl.sum(x[f] for f in facilities) <= 3, \"Max3Facilities\")"
   ]
  },
  {
   "cell_type": "markdown",
   "metadata": {},
   "source": [
    "### Objective Function"
   ]
  },
  {
   "cell_type": "code",
   "execution_count": 19,
   "metadata": {},
   "outputs": [],
   "source": [
    "revenue = mdl.sum(q[f, c] * revenue_per_unit for f in facilities for c in customers)\n",
    "transport_cost = mdl.sum(q[f, c] * rate * distance[f, c] for f in facilities for c in customers)\n",
    "setup_total = mdl.sum(setup_cost[f] * x[f] for f in facilities)\n",
    "\n",
    "mdl.maximize(revenue - transport_cost - setup_total)"
   ]
  },
  {
   "cell_type": "markdown",
   "metadata": {},
   "source": [
    "### Solve"
   ]
  },
  {
   "cell_type": "code",
   "execution_count": 20,
   "metadata": {},
   "outputs": [
    {
     "name": "stdout",
     "output_type": "stream",
     "text": [
      "Version identifier: 22.1.1.0 | 2022-11-28 | 9160aff4d\n",
      "CPXPARAM_Read_DataCheck                          1\n",
      "Found incumbent of value 0.000000 after 0.00 sec. (0.01 ticks)\n",
      "Tried aggregator 2 times.\n",
      "MIP Presolve eliminated 87 rows and 0 columns.\n",
      "Aggregator did 7 substitutions.\n",
      "Reduced MIP has 81 rows, 140 columns, and 280 nonzeros.\n",
      "Reduced MIP has 70 binaries, 0 generals, 0 SOSs, and 0 indicators.\n",
      "Presolve time = 0.00 sec. (0.43 ticks)\n",
      "Probing time = 0.00 sec. (0.07 ticks)\n",
      "Tried aggregator 1 time.\n",
      "Detecting symmetries...\n",
      "Reduced MIP has 81 rows, 140 columns, and 280 nonzeros.\n",
      "Reduced MIP has 70 binaries, 0 generals, 0 SOSs, and 0 indicators.\n",
      "Presolve time = 0.00 sec. (0.21 ticks)\n",
      "Probing time = 0.00 sec. (0.07 ticks)\n",
      "Clique table members: 10.\n",
      "MIP emphasis: balance optimality and feasibility.\n",
      "MIP search method: dynamic search.\n",
      "Parallel mode: deterministic, using up to 8 threads.\n",
      "Root relaxation solution time = 0.00 sec. (0.33 ticks)\n",
      "\n",
      "        Nodes                                         Cuts/\n",
      "   Node  Left     Objective  IInf  Best Integer    Best Bound    ItCnt     Gap\n",
      "\n",
      "*     0+    0                            0.0000  1235850.0000              --- \n",
      "*     0+    0                        42950.0000  1235850.0000              --- \n",
      "      0     0   173943.4341     4    42950.0000   173943.4341       61  304.99%\n",
      "*     0+    0                       144382.5000   173943.4341            20.47%\n",
      "      0     0   173787.5000     3   144382.5000      Cuts: 14       69   20.37%\n",
      "*     0+    0                       159085.0000   173787.5000             9.24%\n",
      "      0     0   173743.9898    22   159085.0000       Cuts: 6       79    9.21%\n",
      "      0     0   173704.8182    23   159085.0000       Cuts: 6       94    9.19%\n",
      "*     0+    0                       168805.0000   173704.8182             2.90%\n",
      "      0     0   173682.7273    19   168805.0000       Cuts: 5      101    2.89%\n",
      "*     0+    0                       173597.5000   173682.7273             0.05%\n",
      "      0     0   173676.6667    24   173597.5000       Cuts: 5      106    0.05%\n",
      "Detecting symmetries...\n",
      "      0     0   173654.9286    22   173597.5000       Cuts: 3      116    0.03%\n",
      "Detecting symmetries...\n",
      "\n",
      "Repeating presolve.\n",
      "Tried aggregator 2 times.\n",
      "MIP Presolve eliminated 38 rows and 73 columns.\n",
      "MIP Presolve modified 3 coefficients.\n",
      "Aggregator did 1 substitutions.\n",
      "Reduced MIP has 42 rows, 66 columns, and 132 nonzeros.\n",
      "Reduced MIP has 31 binaries, 0 generals, 0 SOSs, and 0 indicators.\n",
      "Presolve time = 0.00 sec. (0.15 ticks)\n",
      "Probing time = 0.00 sec. (0.02 ticks)\n",
      "Tried aggregator 1 time.\n",
      "Detecting symmetries...\n",
      "Reduced MIP has 42 rows, 66 columns, and 132 nonzeros.\n",
      "Reduced MIP has 31 binaries, 0 generals, 0 SOSs, and 0 indicators.\n",
      "Presolve time = 0.00 sec. (0.09 ticks)\n",
      "Represolve time = 0.00 sec. (0.42 ticks)\n",
      "Probing time = 0.00 sec. (0.02 ticks)\n",
      "Clique table members: 9.\n",
      "MIP emphasis: balance optimality and feasibility.\n",
      "MIP search method: dynamic search.\n",
      "Parallel mode: deterministic, using up to 8 threads.\n",
      "Root relaxation solution time = 0.00 sec. (0.55 ticks)\n",
      "\n",
      "        Nodes                                         Cuts/\n",
      "   Node  Left     Objective  IInf  Best Integer    Best Bound    ItCnt     Gap\n",
      "\n",
      "*     0+    0                       173597.5000   173627.7922             0.02%\n",
      "      0     0   173666.7188    22   173597.5000   173627.7922      193    0.02%\n",
      "      0     0   173658.7801    22   173597.5000       Cuts: 2      201    0.02%\n",
      "      0     0   173653.1786    21   173597.5000    MIRcuts: 4      210    0.02%\n",
      "      0     0   173651.3401    23   173597.5000    MIRcuts: 2      214    0.02%\n",
      "      0     0   173650.7787    24   173597.5000       Cuts: 4      216    0.02%\n",
      "\n",
      "Implied bound cuts applied:  4\n",
      "Mixed integer rounding cuts applied:  13\n",
      "\n",
      "Root node processing (before b&c):\n",
      "  Real time             =    0.07 sec. (14.89 ticks)\n",
      "Parallel b&c, 8 threads:\n",
      "  Real time             =    0.00 sec. (0.00 ticks)\n",
      "  Sync time (average)   =    0.00 sec.\n",
      "  Wait time (average)   =    0.00 sec.\n",
      "                          ------------\n",
      "Total (root+branch&cut) =    0.07 sec. (14.89 ticks)\n"
     ]
    }
   ],
   "source": [
    "solution = mdl.solve(log_output=True)"
   ]
  },
  {
   "cell_type": "markdown",
   "metadata": {},
   "source": [
    "### Output"
   ]
  },
  {
   "cell_type": "code",
   "execution_count": 21,
   "metadata": {},
   "outputs": [
    {
     "name": "stdout",
     "output_type": "stream",
     "text": [
      "Total Profit: 173597.5\n",
      "Facilities Opened:\n",
      "  F1\n",
      "  F4\n",
      "  F6\n",
      "\n",
      "Customer Assignments and Shipping:\n",
      "  C9 assigned to F1, Units: 25.0\n",
      "  C10 assigned to F1, Units: 20.0\n",
      "  C1 assigned to F4, Units: 15.0\n",
      "  C5 assigned to F4, Units: 30.0\n",
      "  C7 assigned to F4, Units: 15.0\n",
      "  C8 assigned to F4, Units: 10.0\n",
      "  C2 assigned to F6, Units: 10.0\n",
      "  C3 assigned to F6, Units: 20.0\n",
      "  C4 assigned to F6, Units: 25.0\n",
      "  C6 assigned to F6, Units: 10.0\n"
     ]
    }
   ],
   "source": [
    "if solution:\n",
    "    print(\"Total Profit:\", mdl.objective_value)\n",
    "    print(\"Facilities Opened:\")\n",
    "    for f in facilities:\n",
    "        if x[f].solution_value > 0.5:\n",
    "            print(f\"  {f}\")\n",
    "    print(\"\\nCustomer Assignments and Shipping:\")\n",
    "    for f in facilities:\n",
    "        for c in customers:\n",
    "            if y[f, c].solution_value > 0.5:\n",
    "                print(f\"  {c} assigned to {f}, Units: {q[f, c].solution_value}\")\n",
    "else:\n",
    "    print(\"No feasible solution found.\")"
   ]
  }
 ],
 "metadata": {
  "kernelspec": {
   "display_name": ".venv",
   "language": "python",
   "name": "python3"
  },
  "language_info": {
   "codemirror_mode": {
    "name": "ipython",
    "version": 3
   },
   "file_extension": ".py",
   "mimetype": "text/x-python",
   "name": "python",
   "nbconvert_exporter": "python",
   "pygments_lexer": "ipython3",
   "version": "3.10.13"
  }
 },
 "nbformat": 4,
 "nbformat_minor": 2
}
