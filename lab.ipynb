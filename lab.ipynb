{
 "cells": [
  {
   "cell_type": "markdown",
   "metadata": {},
   "source": [
    "# Lab 1"
   ]
  },
  {
   "cell_type": "code",
   "execution_count": 1,
   "metadata": {},
   "outputs": [],
   "source": [
    "from cplex import Cplex"
   ]
  },
  {
   "cell_type": "code",
   "execution_count": 4,
   "metadata": {},
   "outputs": [
    {
     "name": "stdout",
     "output_type": "stream",
     "text": [
      "Version identifier: 22.1.1.0 | 2022-11-28 | 9160aff4d\n",
      "CPXPARAM_Read_DataCheck                          1\n",
      "Tried aggregator 1 time.\n",
      "No LP presolve or aggregator reductions.\n",
      "Presolve time = 0.00 sec. (0.00 ticks)\n",
      "\n",
      "Iteration log . . .\n",
      "Iteration:     1   Dual infeasibility =             0.000000\n",
      "Iteration:     2   Dual objective     =             3.200000\n",
      "objective value: 3.2\n",
      "objective: 3.200\n",
      "status: OPTIMAL_SOLUTION(2)\n",
      "  x=2.400\n",
      "  y=0.800\n"
     ]
    }
   ],
   "source": [
    "from docplex.mp.model import Model\n",
    "# Create model\n",
    "mdl = Model(name=\"DemoDocplex\")\n",
    "# Variables\n",
    "x = mdl.continuous_var(name=\"x\", lb=0)\n",
    "y = mdl.continuous_var(name=\"y\", lb=0)\n",
    "# Objective: Maximize x + y\n",
    "mdl.maximize(x + y)\n",
    "# Constraints\n",
    "mdl.add_constraint(x + 2 * y <= 4, \"c1\")\n",
    "mdl.add_constraint(4 * x + 3 * y <= 12, \"c2\")\n",
    "# Solve\n",
    "sol = mdl.solve(log_output=True)\n",
    "# Output\n",
    "if sol:\n",
    "    print(f\"objective value: {mdl.objective_value}\")\n",
    "    mdl.print_solution()\n",
    "else:\n",
    "    print(\"No solution found.\")"
   ]
  }
 ],
 "metadata": {
  "kernelspec": {
   "display_name": ".venv",
   "language": "python",
   "name": "python3"
  },
  "language_info": {
   "codemirror_mode": {
    "name": "ipython",
    "version": 3
   },
   "file_extension": ".py",
   "mimetype": "text/x-python",
   "name": "python",
   "nbconvert_exporter": "python",
   "pygments_lexer": "ipython3",
   "version": "3.10.13"
  }
 },
 "nbformat": 4,
 "nbformat_minor": 2
}
